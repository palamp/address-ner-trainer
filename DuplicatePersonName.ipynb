{
 "cells": [
  {
   "cell_type": "code",
   "execution_count": 14,
   "metadata": {},
   "outputs": [],
   "source": [
    "import re\n",
    "import random"
   ]
  },
  {
   "cell_type": "code",
   "execution_count": 11,
   "metadata": {},
   "outputs": [],
   "source": [
    "with open('dataset/data_ner.txt', 'r') as f:\n",
    "    dataset = []\n",
    "    for line in f:\n",
    "        text = line.strip('\\n')\n",
    "        dataset.append(text)\n",
    "    \n",
    "first_name = []\n",
    "with open('statics/person_names_female_th.txt', 'r') as f:\n",
    "    first_name.extend([i.strip('\\n') for i in f])\n",
    "with open('statics/person_names_male_th.txt', 'r') as f:\n",
    "    first_name.extend([i.strip('\\n') for i in f])\n",
    "    \n",
    "with open('statics/family_names_th.txt', 'r') as f:\n",
    "    family_name = [i.strip('\\n') for i in f]"
   ]
  },
  {
   "cell_type": "code",
   "execution_count": 12,
   "metadata": {},
   "outputs": [],
   "source": [
    "person_start = re.compile(r'\\[PERSON\\]')\n",
    "person_end = re.compile(r'\\[/PERSON\\]')"
   ]
  },
  {
   "cell_type": "code",
   "execution_count": 15,
   "metadata": {},
   "outputs": [],
   "source": [
    "existed_first_name = []\n",
    "existed_family_name = []\n",
    "dataset_new = []\n",
    "\n",
    "for data in dataset:\n",
    "    if('[PERSON]' in data):\n",
    "        new_data = data\n",
    "        exist_data = data\n",
    "        for start, end in zip(person_start.finditer(data), person_end.finditer(data)):\n",
    "            current_name = data[start.end():end.start()].split(' ')\n",
    "            \n",
    "            new_name = ''\n",
    "            if(len(current_name) > 1):\n",
    "                if(current_name[0] in existed_first_name or current_name[1] in existed_family_name):\n",
    "                    random_first = random.choice(first_name)\n",
    "                    random_last = random.choice(family_name)\n",
    "\n",
    "                    existed_first_name.append(random_first)\n",
    "                    existed_family_name.append(random_last)\n",
    "                    first_name.remove(random_first)\n",
    "                    family_name.remove(random_last)\n",
    "                    \n",
    "                    exist_data = exist_data.replace(' '.join(current_name), f'{random_first} {random_last}')\n",
    "                else: \n",
    "                    existed_first_name.append(current_name[0])\n",
    "                    existed_family_name.append(current_name[1])\n",
    "                \n",
    "                    if(current_name[0] in first_name):\n",
    "                        first_name.remove(current_name[0])\n",
    "                    elif(current_name[1] in family_name):\n",
    "                        family_name.remove(current_name[1])\n",
    "                \n",
    "                random_first = random.choice(first_name)\n",
    "                random_last = random.choice(family_name)\n",
    "                \n",
    "                existed_first_name.append(random_first)\n",
    "                existed_family_name.append(random_last)\n",
    "                first_name.remove(random_first)\n",
    "                family_name.remove(random_last)\n",
    "                new_name = f'{random_first} {random_last}'\n",
    "            \n",
    "            else:\n",
    "                if(current_name[0] in existed_first_name):\n",
    "                    random_first = random.choice(first_name)\n",
    "\n",
    "                    existed_first_name.append(random_first)\n",
    "                    first_name.remove(random_first)\n",
    "                    \n",
    "                    exist_data = exist_data.replace(' '.join(current_name), random_first)\n",
    "                else:\n",
    "                    existed_first_name.append(current_name[0])\n",
    "\n",
    "                    if(current_name[0] in first_name):\n",
    "                        first_name.remove(current_name[0])\n",
    "                    \n",
    "                random_first = random.choice(first_name)\n",
    "                existed_first_name.append(random_first)\n",
    "                first_name.remove(random_first)\n",
    "                new_name = random_first\n",
    "            \n",
    "            new_data = new_data.replace(' '.join(current_name), new_name)\n",
    "            \n",
    "        if(exist_data != data):\n",
    "            dataset_new.append(exist_data)\n",
    "        else:\n",
    "            dataset_new.append(data)\n",
    "        dataset_new.append(new_data)\n",
    "    else:\n",
    "        dataset_new.append(data)"
   ]
  },
  {
   "cell_type": "code",
   "execution_count": 18,
   "metadata": {},
   "outputs": [],
   "source": [
    "with open('dataset/generated_ner.txt', 'w') as f:\n",
    "    f.write('\\n'.join(dataset_new))"
   ]
  },
  {
   "cell_type": "code",
   "execution_count": null,
   "metadata": {},
   "outputs": [],
   "source": []
  }
 ],
 "metadata": {
  "kernelspec": {
   "display_name": "Python [conda env:all-in-one] *",
   "language": "python",
   "name": "conda-env-all-in-one-py"
  },
  "language_info": {
   "codemirror_mode": {
    "name": "ipython",
    "version": 3
   },
   "file_extension": ".py",
   "mimetype": "text/x-python",
   "name": "python",
   "nbconvert_exporter": "python",
   "pygments_lexer": "ipython3",
   "version": "3.7.5"
  }
 },
 "nbformat": 4,
 "nbformat_minor": 2
}
